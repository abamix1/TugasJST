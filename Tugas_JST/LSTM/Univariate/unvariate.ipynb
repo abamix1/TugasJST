{
  "nbformat": 4,
  "nbformat_minor": 0,
  "metadata": {
    "colab": {
      "name": "unvariate.ipynb",
      "provenance": []
    },
    "kernelspec": {
      "name": "python3",
      "display_name": "Python 3"
    },
    "language_info": {
      "name": "python"
    }
  },
  "cells": [
    {
      "cell_type": "code",
      "metadata": {
        "id": "rKoJCGhoVBxa"
      },
      "source": [
        "import matplotlib.pyplot as plt\n",
        "import numpy as np\n",
        "import pandas as pd\n",
        "import tensorflow as tf\n",
        "series = np.array([1, 2, 3, 4, 5, 6, 7, 8])\n",
        "sequence_length = 3\n",
        " \n",
        "gen = tf.keras.preprocessing.sequence.TimeseriesGenerator(\n",
        "  series, series, sequence_length, batch_size=1)\n",
        " \n",
        "for inputs, targets in gen:\n",
        "  print(\"Feature:\", inputs)\n",
        "  print(\"Label:\", targets)\n",
        "  df = pd.read_csv(\n",
        "  \n",
        " \"https://raw.githubusercontent.com/jbrownlee/Datasets/master/daily-min-temperatures.csv\", \n",
        "  usecols=[\"Temp\"])\n",
        "  num_samples = df.shape[0]\n",
        "separator = int(num_samples * 0.8)\n",
        "train = df[:separator]\n",
        "test = df[separator:]\n",
        "def get_dataset(df, seq_len, batch_size):\n",
        "  val = df.values\n",
        "   \n",
        "  return tf.keras.preprocessing.sequence.TimeseriesGenerator(\n",
        "    val, val, seq_len, batch_size=batch_size)\n",
        "  def create_model():\n",
        "  model = tf.keras.models.Sequential([\n",
        "    tf.keras.layers.LSTM(35, return_sequences=True),\n",
        "    tf.keras.layers.LSTM(45, return_sequences=False),\n",
        "    tf.keras.layers.Dense(1)\n",
        "  ])\n",
        " \n",
        "  model.compile(loss=tf.losses.MeanSquaredError(),\n",
        "                optimizer=tf.optimizers.Adam())\n",
        " \n",
        "  return model\n",
        "  train_ds = get_dataset(train, 10, 50)\n",
        " \n",
        "m = create_model()\n",
        "history = m.fit(train_ds, epochs=40, verbose=False)\n",
        " \n",
        "plt.style.use('classic')\n",
        "plt.plot(history.history[\"loss\"])"
      ],
      "execution_count": null,
      "outputs": []
    }
  ]
}